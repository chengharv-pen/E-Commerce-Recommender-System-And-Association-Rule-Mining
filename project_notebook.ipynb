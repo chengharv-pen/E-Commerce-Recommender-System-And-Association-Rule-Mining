{
 "cells": [
  {
   "cell_type": "markdown",
   "id": "6a742351",
   "metadata": {},
   "source": [
    "# 🛍️ SmartCart Starter Notebook\n",
    "This notebook will guide you through your group project on collaborative filtering and association rule mining for an e-commerce recommender system."
   ]
  },
  {
   "cell_type": "markdown",
   "id": "20914f63",
   "metadata": {},
   "source": [
    "## 📥 Part 1: Data Preprocessing\n",
    "Steps:\n",
    "- Load `ecommerce_user_data.csv` and `product_details.csv`\n",
    "- Merge data if necessary\n",
    "- Create user-item matrix\n",
    "- Fill missing ratings with 0\n",
    "- Group user behavior by category"
   ]
  },
  {
   "cell_type": "code",
   "execution_count": 28,
   "id": "c6469afa",
   "metadata": {},
   "outputs": [],
   "source": [
    "# Import necessary libraries\n",
    "import numpy as np\n",
    "import pandas as pd\n",
    "from sklearn.metrics.pairwise import cosine_similarity\n",
    "from mlxtend.preprocessing import TransactionEncoder\n",
    "from mlxtend.frequent_patterns import apriori, association_rules\n",
    "import seaborn as sns\n",
    "import matplotlib.pyplot as plt\n",
    "from sklearn.cluster import KMeans\n",
    "from sklearn.preprocessing import MinMaxScaler\n",
    "from sklearn.metrics import silhouette_score\n",
    "import networkx as nx  \n",
    "from adjustText import adjust_text"
   ]
  },
  {
   "cell_type": "code",
   "execution_count": 30,
   "id": "f7d42a85",
   "metadata": {},
   "outputs": [
    {
     "name": "stdout",
     "output_type": "stream",
     "text": [
      "  UserID ProductID  Rating   Timestamp  Category\n",
      "0   U000     P0009       5  2024-09-08     Books\n",
      "1   U000     P0020       1  2024-09-02      Home\n",
      "2   U000     P0012       4  2024-10-18     Books\n",
      "3   U000     P0013       1  2024-09-18  Clothing\n",
      "4   U000     P0070       4  2024-09-16      Toys\n",
      "  ProductID      ProductName     Category\n",
      "0     P0000      Toys Item 0     Clothing\n",
      "1     P0001  Clothing Item 1  Electronics\n",
      "2     P0002     Books Item 2  Electronics\n",
      "3     P0003  Clothing Item 3  Electronics\n",
      "4     P0004  Clothing Item 4  Electronics\n"
     ]
    }
   ],
   "source": [
    "# Load data\n",
    "user_data = pd.read_csv('./data/ecommerce_user_data.csv')\n",
    "product_data = pd.read_csv('./data/product_details.csv')\n",
    "\n",
    "print(user_data.head())\n",
    "print(product_data.head())"
   ]
  },
  {
   "cell_type": "code",
   "execution_count": 3,
   "id": "a417d6de",
   "metadata": {},
   "outputs": [
    {
     "data": {
      "application/vnd.microsoft.datawrangler.viewer.v0+json": {
       "columns": [
        {
         "name": "UserID",
         "rawType": "object",
         "type": "string"
        },
        {
         "name": "P0000",
         "rawType": "float64",
         "type": "float"
        },
        {
         "name": "P0001",
         "rawType": "float64",
         "type": "float"
        },
        {
         "name": "P0002",
         "rawType": "float64",
         "type": "float"
        },
        {
         "name": "P0003",
         "rawType": "float64",
         "type": "float"
        },
        {
         "name": "P0004",
         "rawType": "float64",
         "type": "float"
        },
        {
         "name": "P0005",
         "rawType": "float64",
         "type": "float"
        },
        {
         "name": "P0006",
         "rawType": "float64",
         "type": "float"
        },
        {
         "name": "P0007",
         "rawType": "float64",
         "type": "float"
        },
        {
         "name": "P0008",
         "rawType": "float64",
         "type": "float"
        },
        {
         "name": "P0009",
         "rawType": "float64",
         "type": "float"
        },
        {
         "name": "P0010",
         "rawType": "float64",
         "type": "float"
        },
        {
         "name": "P0011",
         "rawType": "float64",
         "type": "float"
        },
        {
         "name": "P0012",
         "rawType": "float64",
         "type": "float"
        },
        {
         "name": "P0013",
         "rawType": "float64",
         "type": "float"
        },
        {
         "name": "P0014",
         "rawType": "float64",
         "type": "float"
        },
        {
         "name": "P0015",
         "rawType": "float64",
         "type": "float"
        },
        {
         "name": "P0016",
         "rawType": "float64",
         "type": "float"
        },
        {
         "name": "P0017",
         "rawType": "float64",
         "type": "float"
        },
        {
         "name": "P0018",
         "rawType": "float64",
         "type": "float"
        },
        {
         "name": "P0019",
         "rawType": "float64",
         "type": "float"
        },
        {
         "name": "P0020",
         "rawType": "float64",
         "type": "float"
        },
        {
         "name": "P0021",
         "rawType": "float64",
         "type": "float"
        },
        {
         "name": "P0022",
         "rawType": "float64",
         "type": "float"
        },
        {
         "name": "P0023",
         "rawType": "float64",
         "type": "float"
        },
        {
         "name": "P0024",
         "rawType": "float64",
         "type": "float"
        },
        {
         "name": "P0025",
         "rawType": "float64",
         "type": "float"
        },
        {
         "name": "P0026",
         "rawType": "float64",
         "type": "float"
        },
        {
         "name": "P0027",
         "rawType": "float64",
         "type": "float"
        },
        {
         "name": "P0028",
         "rawType": "float64",
         "type": "float"
        },
        {
         "name": "P0029",
         "rawType": "float64",
         "type": "float"
        },
        {
         "name": "P0030",
         "rawType": "float64",
         "type": "float"
        },
        {
         "name": "P0031",
         "rawType": "float64",
         "type": "float"
        },
        {
         "name": "P0032",
         "rawType": "float64",
         "type": "float"
        },
        {
         "name": "P0033",
         "rawType": "float64",
         "type": "float"
        },
        {
         "name": "P0034",
         "rawType": "float64",
         "type": "float"
        },
        {
         "name": "P0035",
         "rawType": "float64",
         "type": "float"
        },
        {
         "name": "P0036",
         "rawType": "float64",
         "type": "float"
        },
        {
         "name": "P0037",
         "rawType": "float64",
         "type": "float"
        },
        {
         "name": "P0038",
         "rawType": "float64",
         "type": "float"
        },
        {
         "name": "P0039",
         "rawType": "float64",
         "type": "float"
        },
        {
         "name": "P0040",
         "rawType": "float64",
         "type": "float"
        },
        {
         "name": "P0041",
         "rawType": "float64",
         "type": "float"
        },
        {
         "name": "P0042",
         "rawType": "float64",
         "type": "float"
        },
        {
         "name": "P0043",
         "rawType": "float64",
         "type": "float"
        },
        {
         "name": "P0044",
         "rawType": "float64",
         "type": "float"
        },
        {
         "name": "P0045",
         "rawType": "float64",
         "type": "float"
        },
        {
         "name": "P0046",
         "rawType": "float64",
         "type": "float"
        },
        {
         "name": "P0047",
         "rawType": "float64",
         "type": "float"
        },
        {
         "name": "P0048",
         "rawType": "float64",
         "type": "float"
        },
        {
         "name": "P0049",
         "rawType": "float64",
         "type": "float"
        },
        {
         "name": "P0050",
         "rawType": "float64",
         "type": "float"
        },
        {
         "name": "P0051",
         "rawType": "float64",
         "type": "float"
        },
        {
         "name": "P0052",
         "rawType": "float64",
         "type": "float"
        },
        {
         "name": "P0053",
         "rawType": "float64",
         "type": "float"
        },
        {
         "name": "P0054",
         "rawType": "float64",
         "type": "float"
        },
        {
         "name": "P0055",
         "rawType": "float64",
         "type": "float"
        },
        {
         "name": "P0056",
         "rawType": "float64",
         "type": "float"
        },
        {
         "name": "P0057",
         "rawType": "float64",
         "type": "float"
        },
        {
         "name": "P0058",
         "rawType": "float64",
         "type": "float"
        },
        {
         "name": "P0059",
         "rawType": "float64",
         "type": "float"
        },
        {
         "name": "P0060",
         "rawType": "float64",
         "type": "float"
        },
        {
         "name": "P0061",
         "rawType": "float64",
         "type": "float"
        },
        {
         "name": "P0062",
         "rawType": "float64",
         "type": "float"
        },
        {
         "name": "P0063",
         "rawType": "float64",
         "type": "float"
        },
        {
         "name": "P0064",
         "rawType": "float64",
         "type": "float"
        },
        {
         "name": "P0065",
         "rawType": "float64",
         "type": "float"
        },
        {
         "name": "P0066",
         "rawType": "float64",
         "type": "float"
        },
        {
         "name": "P0067",
         "rawType": "float64",
         "type": "float"
        },
        {
         "name": "P0068",
         "rawType": "float64",
         "type": "float"
        },
        {
         "name": "P0069",
         "rawType": "float64",
         "type": "float"
        },
        {
         "name": "P0070",
         "rawType": "float64",
         "type": "float"
        },
        {
         "name": "P0071",
         "rawType": "float64",
         "type": "float"
        },
        {
         "name": "P0072",
         "rawType": "float64",
         "type": "float"
        },
        {
         "name": "P0073",
         "rawType": "float64",
         "type": "float"
        },
        {
         "name": "P0074",
         "rawType": "float64",
         "type": "float"
        },
        {
         "name": "P0075",
         "rawType": "float64",
         "type": "float"
        },
        {
         "name": "P0076",
         "rawType": "float64",
         "type": "float"
        },
        {
         "name": "P0077",
         "rawType": "float64",
         "type": "float"
        },
        {
         "name": "P0078",
         "rawType": "float64",
         "type": "float"
        },
        {
         "name": "P0079",
         "rawType": "float64",
         "type": "float"
        },
        {
         "name": "P0080",
         "rawType": "float64",
         "type": "float"
        },
        {
         "name": "P0081",
         "rawType": "float64",
         "type": "float"
        },
        {
         "name": "P0082",
         "rawType": "float64",
         "type": "float"
        },
        {
         "name": "P0083",
         "rawType": "float64",
         "type": "float"
        },
        {
         "name": "P0084",
         "rawType": "float64",
         "type": "float"
        },
        {
         "name": "P0085",
         "rawType": "float64",
         "type": "float"
        },
        {
         "name": "P0086",
         "rawType": "float64",
         "type": "float"
        },
        {
         "name": "P0087",
         "rawType": "float64",
         "type": "float"
        },
        {
         "name": "P0088",
         "rawType": "float64",
         "type": "float"
        },
        {
         "name": "P0089",
         "rawType": "float64",
         "type": "float"
        },
        {
         "name": "P0090",
         "rawType": "float64",
         "type": "float"
        },
        {
         "name": "P0091",
         "rawType": "float64",
         "type": "float"
        },
        {
         "name": "P0092",
         "rawType": "float64",
         "type": "float"
        },
        {
         "name": "P0093",
         "rawType": "float64",
         "type": "float"
        },
        {
         "name": "P0094",
         "rawType": "float64",
         "type": "float"
        },
        {
         "name": "P0095",
         "rawType": "float64",
         "type": "float"
        },
        {
         "name": "P0096",
         "rawType": "float64",
         "type": "float"
        },
        {
         "name": "P0097",
         "rawType": "float64",
         "type": "float"
        },
        {
         "name": "P0098",
         "rawType": "float64",
         "type": "float"
        },
        {
         "name": "P0099",
         "rawType": "float64",
         "type": "float"
        }
       ],
       "conversionMethod": "pd.DataFrame",
       "ref": "4b1f6b6e-decb-46eb-818b-7c74c3a13b65",
       "rows": [
        [
         "U000",
         "0.0",
         "0.0",
         "0.0",
         "3.0",
         "0.0",
         "5.0",
         "0.0",
         "3.0",
         "0.0",
         "5.0",
         "0.0",
         "0.0",
         "4.0",
         "1.0",
         "1.0",
         "0.0",
         "0.0",
         "0.0",
         "0.0",
         "0.0",
         "1.0",
         "4.0",
         "0.0",
         "0.0",
         "0.0",
         "0.0",
         "0.0",
         "0.0",
         "3.0",
         "0.0",
         "0.0",
         "0.0",
         "0.0",
         "5.0",
         "0.0",
         "0.0",
         "0.0",
         "0.0",
         "0.0",
         "0.0",
         "0.0",
         "0.0",
         "3.0",
         "0.0",
         "2.0",
         "0.0",
         "1.0",
         "3.0",
         "5.0",
         "0.0",
         "1.0",
         "0.0",
         "0.0",
         "0.0",
         "0.0",
         "0.0",
         "0.0",
         "0.0",
         "0.0",
         "0.0",
         "0.0",
         "0.0",
         "0.0",
         "0.0",
         "0.0",
         "0.0",
         "0.0",
         "0.0",
         "0.0",
         "0.0",
         "4.0",
         "3.0",
         "0.0",
         "0.0",
         "0.0",
         "0.0",
         "0.0",
         "0.0",
         "0.0",
         "4.0",
         "0.0",
         "0.0",
         "0.0",
         "0.0",
         "0.0",
         "0.0",
         "0.0",
         "0.0",
         "0.0",
         "0.0",
         "0.0",
         "0.0",
         "0.0",
         "0.0",
         "0.0",
         "0.0",
         "0.0",
         "0.0",
         "0.0",
         "0.0"
        ],
        [
         "U001",
         "0.0",
         "0.0",
         "3.0",
         "0.0",
         "0.0",
         "0.0",
         "0.0",
         "0.0",
         "0.0",
         "0.0",
         "0.0",
         "0.0",
         "0.0",
         "0.0",
         "0.0",
         "0.0",
         "0.0",
         "0.0",
         "0.0",
         "0.0",
         "2.0",
         "0.0",
         "0.0",
         "0.0",
         "0.0",
         "0.0",
         "0.0",
         "0.0",
         "0.0",
         "0.0",
         "5.0",
         "0.0",
         "0.0",
         "1.0",
         "0.0",
         "0.0",
         "0.0",
         "4.0",
         "0.0",
         "0.0",
         "0.0",
         "0.0",
         "0.0",
         "0.0",
         "1.0",
         "0.0",
         "0.0",
         "0.0",
         "0.0",
         "0.0",
         "2.0",
         "4.0",
         "0.0",
         "0.0",
         "4.0",
         "2.0",
         "0.0",
         "0.0",
         "0.0",
         "0.0",
         "0.0",
         "0.0",
         "0.0",
         "0.0",
         "0.0",
         "0.0",
         "0.0",
         "0.0",
         "0.0",
         "0.0",
         "0.0",
         "0.0",
         "0.0",
         "0.0",
         "0.0",
         "0.0",
         "0.0",
         "0.0",
         "0.0",
         "0.0",
         "0.0",
         "0.0",
         "0.0",
         "0.0",
         "0.0",
         "0.0",
         "2.0",
         "0.0",
         "0.0",
         "0.0",
         "0.0",
         "5.0",
         "0.0",
         "0.0",
         "0.0",
         "3.0",
         "0.0",
         "0.0",
         "0.0",
         "0.0"
        ],
        [
         "U002",
         "0.0",
         "0.0",
         "0.0",
         "0.0",
         "0.0",
         "5.0",
         "0.0",
         "0.0",
         "0.0",
         "0.0",
         "0.0",
         "0.0",
         "0.0",
         "0.0",
         "3.0",
         "0.0",
         "0.0",
         "0.0",
         "0.0",
         "0.0",
         "1.0",
         "0.0",
         "0.0",
         "0.0",
         "0.0",
         "0.0",
         "0.0",
         "0.0",
         "0.0",
         "0.0",
         "0.0",
         "0.0",
         "0.0",
         "0.0",
         "0.0",
         "0.0",
         "0.0",
         "0.0",
         "0.0",
         "0.0",
         "0.0",
         "0.0",
         "0.0",
         "0.0",
         "0.0",
         "0.0",
         "0.0",
         "0.0",
         "0.0",
         "4.0",
         "0.0",
         "0.0",
         "1.0",
         "0.0",
         "5.0",
         "0.0",
         "0.0",
         "0.0",
         "0.0",
         "1.0",
         "0.0",
         "0.0",
         "0.0",
         "0.0",
         "0.0",
         "0.0",
         "0.0",
         "1.0",
         "0.0",
         "0.0",
         "0.0",
         "1.0",
         "1.0",
         "0.0",
         "0.0",
         "0.0",
         "0.0",
         "0.0",
         "0.0",
         "0.0",
         "0.0",
         "2.0",
         "0.0",
         "4.0",
         "0.0",
         "4.0",
         "1.0",
         "0.0",
         "0.0",
         "0.0",
         "0.0",
         "0.0",
         "0.0",
         "0.0",
         "0.0",
         "0.0",
         "0.0",
         "0.0",
         "0.0",
         "0.0"
        ],
        [
         "U003",
         "0.0",
         "0.0",
         "0.0",
         "0.0",
         "0.0",
         "0.0",
         "0.0",
         "0.0",
         "0.0",
         "0.0",
         "3.0",
         "0.0",
         "0.0",
         "0.0",
         "2.0",
         "0.0",
         "0.0",
         "0.0",
         "0.0",
         "0.0",
         "0.0",
         "0.0",
         "0.0",
         "1.0",
         "0.0",
         "0.0",
         "0.0",
         "0.0",
         "0.0",
         "0.0",
         "0.0",
         "0.0",
         "1.0",
         "0.0",
         "0.0",
         "0.0",
         "0.0",
         "0.0",
         "0.0",
         "0.0",
         "3.0",
         "0.0",
         "0.0",
         "0.0",
         "0.0",
         "0.0",
         "1.0",
         "0.0",
         "0.0",
         "0.0",
         "0.0",
         "0.0",
         "0.0",
         "2.0",
         "0.0",
         "0.0",
         "0.0",
         "0.0",
         "0.0",
         "0.0",
         "0.0",
         "0.0",
         "0.0",
         "0.0",
         "0.0",
         "1.0",
         "0.0",
         "0.0",
         "0.0",
         "0.0",
         "0.0",
         "0.0",
         "0.0",
         "0.0",
         "0.0",
         "0.0",
         "0.0",
         "0.0",
         "5.0",
         "0.0",
         "0.0",
         "0.0",
         "0.0",
         "0.0",
         "0.0",
         "0.0",
         "0.0",
         "0.0",
         "0.0",
         "4.0",
         "0.0",
         "0.0",
         "0.0",
         "0.0",
         "0.0",
         "0.0",
         "0.0",
         "1.0",
         "0.0",
         "0.0"
        ],
        [
         "U004",
         "0.0",
         "3.0",
         "0.0",
         "0.0",
         "0.0",
         "0.0",
         "2.0",
         "0.0",
         "0.0",
         "0.0",
         "0.0",
         "3.0",
         "0.0",
         "0.0",
         "2.0",
         "0.0",
         "0.0",
         "0.0",
         "0.0",
         "3.0",
         "0.0",
         "0.0",
         "0.0",
         "0.0",
         "0.0",
         "0.0",
         "0.0",
         "0.0",
         "0.0",
         "0.0",
         "0.0",
         "0.0",
         "0.0",
         "0.0",
         "0.0",
         "0.0",
         "0.0",
         "0.0",
         "0.0",
         "0.0",
         "0.0",
         "0.0",
         "0.0",
         "5.0",
         "3.0",
         "0.0",
         "0.0",
         "0.0",
         "0.0",
         "0.0",
         "5.0",
         "0.0",
         "4.0",
         "0.0",
         "0.0",
         "0.0",
         "0.0",
         "0.0",
         "2.0",
         "0.0",
         "0.0",
         "0.0",
         "0.0",
         "0.0",
         "0.0",
         "0.0",
         "0.0",
         "0.0",
         "0.0",
         "0.0",
         "0.0",
         "0.0",
         "0.0",
         "0.0",
         "0.0",
         "0.0",
         "0.0",
         "1.0",
         "0.0",
         "0.0",
         "0.0",
         "0.0",
         "0.0",
         "1.0",
         "0.0",
         "0.0",
         "2.0",
         "0.0",
         "2.0",
         "0.0",
         "0.0",
         "0.0",
         "5.0",
         "0.0",
         "0.0",
         "0.0",
         "0.0",
         "0.0",
         "4.0",
         "3.0"
        ]
       ],
       "shape": {
        "columns": 100,
        "rows": 5
       }
      },
      "text/html": [
       "<div>\n",
       "<style scoped>\n",
       "    .dataframe tbody tr th:only-of-type {\n",
       "        vertical-align: middle;\n",
       "    }\n",
       "\n",
       "    .dataframe tbody tr th {\n",
       "        vertical-align: top;\n",
       "    }\n",
       "\n",
       "    .dataframe thead th {\n",
       "        text-align: right;\n",
       "    }\n",
       "</style>\n",
       "<table border=\"1\" class=\"dataframe\">\n",
       "  <thead>\n",
       "    <tr style=\"text-align: right;\">\n",
       "      <th>ProductID</th>\n",
       "      <th>P0000</th>\n",
       "      <th>P0001</th>\n",
       "      <th>P0002</th>\n",
       "      <th>P0003</th>\n",
       "      <th>P0004</th>\n",
       "      <th>P0005</th>\n",
       "      <th>P0006</th>\n",
       "      <th>P0007</th>\n",
       "      <th>P0008</th>\n",
       "      <th>P0009</th>\n",
       "      <th>...</th>\n",
       "      <th>P0090</th>\n",
       "      <th>P0091</th>\n",
       "      <th>P0092</th>\n",
       "      <th>P0093</th>\n",
       "      <th>P0094</th>\n",
       "      <th>P0095</th>\n",
       "      <th>P0096</th>\n",
       "      <th>P0097</th>\n",
       "      <th>P0098</th>\n",
       "      <th>P0099</th>\n",
       "    </tr>\n",
       "    <tr>\n",
       "      <th>UserID</th>\n",
       "      <th></th>\n",
       "      <th></th>\n",
       "      <th></th>\n",
       "      <th></th>\n",
       "      <th></th>\n",
       "      <th></th>\n",
       "      <th></th>\n",
       "      <th></th>\n",
       "      <th></th>\n",
       "      <th></th>\n",
       "      <th></th>\n",
       "      <th></th>\n",
       "      <th></th>\n",
       "      <th></th>\n",
       "      <th></th>\n",
       "      <th></th>\n",
       "      <th></th>\n",
       "      <th></th>\n",
       "      <th></th>\n",
       "      <th></th>\n",
       "      <th></th>\n",
       "    </tr>\n",
       "  </thead>\n",
       "  <tbody>\n",
       "    <tr>\n",
       "      <th>U000</th>\n",
       "      <td>0.0</td>\n",
       "      <td>0.0</td>\n",
       "      <td>0.0</td>\n",
       "      <td>3.0</td>\n",
       "      <td>0.0</td>\n",
       "      <td>5.0</td>\n",
       "      <td>0.0</td>\n",
       "      <td>3.0</td>\n",
       "      <td>0.0</td>\n",
       "      <td>5.0</td>\n",
       "      <td>...</td>\n",
       "      <td>0.0</td>\n",
       "      <td>0.0</td>\n",
       "      <td>0.0</td>\n",
       "      <td>0.0</td>\n",
       "      <td>0.0</td>\n",
       "      <td>0.0</td>\n",
       "      <td>0.0</td>\n",
       "      <td>0.0</td>\n",
       "      <td>0.0</td>\n",
       "      <td>0.0</td>\n",
       "    </tr>\n",
       "    <tr>\n",
       "      <th>U001</th>\n",
       "      <td>0.0</td>\n",
       "      <td>0.0</td>\n",
       "      <td>3.0</td>\n",
       "      <td>0.0</td>\n",
       "      <td>0.0</td>\n",
       "      <td>0.0</td>\n",
       "      <td>0.0</td>\n",
       "      <td>0.0</td>\n",
       "      <td>0.0</td>\n",
       "      <td>0.0</td>\n",
       "      <td>...</td>\n",
       "      <td>0.0</td>\n",
       "      <td>5.0</td>\n",
       "      <td>0.0</td>\n",
       "      <td>0.0</td>\n",
       "      <td>0.0</td>\n",
       "      <td>3.0</td>\n",
       "      <td>0.0</td>\n",
       "      <td>0.0</td>\n",
       "      <td>0.0</td>\n",
       "      <td>0.0</td>\n",
       "    </tr>\n",
       "    <tr>\n",
       "      <th>U002</th>\n",
       "      <td>0.0</td>\n",
       "      <td>0.0</td>\n",
       "      <td>0.0</td>\n",
       "      <td>0.0</td>\n",
       "      <td>0.0</td>\n",
       "      <td>5.0</td>\n",
       "      <td>0.0</td>\n",
       "      <td>0.0</td>\n",
       "      <td>0.0</td>\n",
       "      <td>0.0</td>\n",
       "      <td>...</td>\n",
       "      <td>0.0</td>\n",
       "      <td>0.0</td>\n",
       "      <td>0.0</td>\n",
       "      <td>0.0</td>\n",
       "      <td>0.0</td>\n",
       "      <td>0.0</td>\n",
       "      <td>0.0</td>\n",
       "      <td>0.0</td>\n",
       "      <td>0.0</td>\n",
       "      <td>0.0</td>\n",
       "    </tr>\n",
       "    <tr>\n",
       "      <th>U003</th>\n",
       "      <td>0.0</td>\n",
       "      <td>0.0</td>\n",
       "      <td>0.0</td>\n",
       "      <td>0.0</td>\n",
       "      <td>0.0</td>\n",
       "      <td>0.0</td>\n",
       "      <td>0.0</td>\n",
       "      <td>0.0</td>\n",
       "      <td>0.0</td>\n",
       "      <td>0.0</td>\n",
       "      <td>...</td>\n",
       "      <td>0.0</td>\n",
       "      <td>0.0</td>\n",
       "      <td>0.0</td>\n",
       "      <td>0.0</td>\n",
       "      <td>0.0</td>\n",
       "      <td>0.0</td>\n",
       "      <td>0.0</td>\n",
       "      <td>1.0</td>\n",
       "      <td>0.0</td>\n",
       "      <td>0.0</td>\n",
       "    </tr>\n",
       "    <tr>\n",
       "      <th>U004</th>\n",
       "      <td>0.0</td>\n",
       "      <td>3.0</td>\n",
       "      <td>0.0</td>\n",
       "      <td>0.0</td>\n",
       "      <td>0.0</td>\n",
       "      <td>0.0</td>\n",
       "      <td>2.0</td>\n",
       "      <td>0.0</td>\n",
       "      <td>0.0</td>\n",
       "      <td>0.0</td>\n",
       "      <td>...</td>\n",
       "      <td>0.0</td>\n",
       "      <td>0.0</td>\n",
       "      <td>5.0</td>\n",
       "      <td>0.0</td>\n",
       "      <td>0.0</td>\n",
       "      <td>0.0</td>\n",
       "      <td>0.0</td>\n",
       "      <td>0.0</td>\n",
       "      <td>4.0</td>\n",
       "      <td>3.0</td>\n",
       "    </tr>\n",
       "  </tbody>\n",
       "</table>\n",
       "<p>5 rows × 100 columns</p>\n",
       "</div>"
      ],
      "text/plain": [
       "ProductID  P0000  P0001  P0002  P0003  P0004  P0005  P0006  P0007  P0008  \\\n",
       "UserID                                                                     \n",
       "U000         0.0    0.0    0.0    3.0    0.0    5.0    0.0    3.0    0.0   \n",
       "U001         0.0    0.0    3.0    0.0    0.0    0.0    0.0    0.0    0.0   \n",
       "U002         0.0    0.0    0.0    0.0    0.0    5.0    0.0    0.0    0.0   \n",
       "U003         0.0    0.0    0.0    0.0    0.0    0.0    0.0    0.0    0.0   \n",
       "U004         0.0    3.0    0.0    0.0    0.0    0.0    2.0    0.0    0.0   \n",
       "\n",
       "ProductID  P0009  ...  P0090  P0091  P0092  P0093  P0094  P0095  P0096  P0097  \\\n",
       "UserID            ...                                                           \n",
       "U000         5.0  ...    0.0    0.0    0.0    0.0    0.0    0.0    0.0    0.0   \n",
       "U001         0.0  ...    0.0    5.0    0.0    0.0    0.0    3.0    0.0    0.0   \n",
       "U002         0.0  ...    0.0    0.0    0.0    0.0    0.0    0.0    0.0    0.0   \n",
       "U003         0.0  ...    0.0    0.0    0.0    0.0    0.0    0.0    0.0    1.0   \n",
       "U004         0.0  ...    0.0    0.0    5.0    0.0    0.0    0.0    0.0    0.0   \n",
       "\n",
       "ProductID  P0098  P0099  \n",
       "UserID                   \n",
       "U000         0.0    0.0  \n",
       "U001         0.0    0.0  \n",
       "U002         0.0    0.0  \n",
       "U003         0.0    0.0  \n",
       "U004         4.0    3.0  \n",
       "\n",
       "[5 rows x 100 columns]"
      ]
     },
     "execution_count": 3,
     "metadata": {},
     "output_type": "execute_result"
    }
   ],
   "source": [
    "# Create user-item matrix\n",
    "user_item_matrix = user_data.pivot_table(index='UserID', columns='ProductID', values='Rating')\n",
    "user_item_matrix_filled = user_item_matrix.fillna(0)\n",
    "user_item_matrix_filled.head()"
   ]
  },
  {
   "cell_type": "code",
   "execution_count": 4,
   "id": "02c883fe",
   "metadata": {},
   "outputs": [
    {
     "data": {
      "application/vnd.microsoft.datawrangler.viewer.v0+json": {
       "columns": [
        {
         "name": "index",
         "rawType": "int64",
         "type": "integer"
        },
        {
         "name": "UserID",
         "rawType": "object",
         "type": "string"
        },
        {
         "name": "Category",
         "rawType": "object",
         "type": "string"
        },
        {
         "name": "TotalInteractions",
         "rawType": "int64",
         "type": "integer"
        },
        {
         "name": "AverageRating",
         "rawType": "float64",
         "type": "float"
        }
       ],
       "conversionMethod": "pd.DataFrame",
       "ref": "dab789a2-2751-438b-8316-c8cdad369943",
       "rows": [
        [
         "0",
         "U000",
         "Books",
         "6",
         "3.6666666666666665"
        ],
        [
         "1",
         "U000",
         "Clothing",
         "3",
         "1.6666666666666667"
        ],
        [
         "2",
         "U000",
         "Electronics",
         "3",
         "3.6666666666666665"
        ],
        [
         "3",
         "U000",
         "Home",
         "2",
         "1.0"
        ],
        [
         "4",
         "U000",
         "Toys",
         "6",
         "3.5"
        ]
       ],
       "shape": {
        "columns": 4,
        "rows": 5
       }
      },
      "text/html": [
       "<div>\n",
       "<style scoped>\n",
       "    .dataframe tbody tr th:only-of-type {\n",
       "        vertical-align: middle;\n",
       "    }\n",
       "\n",
       "    .dataframe tbody tr th {\n",
       "        vertical-align: top;\n",
       "    }\n",
       "\n",
       "    .dataframe thead th {\n",
       "        text-align: right;\n",
       "    }\n",
       "</style>\n",
       "<table border=\"1\" class=\"dataframe\">\n",
       "  <thead>\n",
       "    <tr style=\"text-align: right;\">\n",
       "      <th></th>\n",
       "      <th>UserID</th>\n",
       "      <th>Category</th>\n",
       "      <th>TotalInteractions</th>\n",
       "      <th>AverageRating</th>\n",
       "    </tr>\n",
       "  </thead>\n",
       "  <tbody>\n",
       "    <tr>\n",
       "      <th>0</th>\n",
       "      <td>U000</td>\n",
       "      <td>Books</td>\n",
       "      <td>6</td>\n",
       "      <td>3.666667</td>\n",
       "    </tr>\n",
       "    <tr>\n",
       "      <th>1</th>\n",
       "      <td>U000</td>\n",
       "      <td>Clothing</td>\n",
       "      <td>3</td>\n",
       "      <td>1.666667</td>\n",
       "    </tr>\n",
       "    <tr>\n",
       "      <th>2</th>\n",
       "      <td>U000</td>\n",
       "      <td>Electronics</td>\n",
       "      <td>3</td>\n",
       "      <td>3.666667</td>\n",
       "    </tr>\n",
       "    <tr>\n",
       "      <th>3</th>\n",
       "      <td>U000</td>\n",
       "      <td>Home</td>\n",
       "      <td>2</td>\n",
       "      <td>1.000000</td>\n",
       "    </tr>\n",
       "    <tr>\n",
       "      <th>4</th>\n",
       "      <td>U000</td>\n",
       "      <td>Toys</td>\n",
       "      <td>6</td>\n",
       "      <td>3.500000</td>\n",
       "    </tr>\n",
       "  </tbody>\n",
       "</table>\n",
       "</div>"
      ],
      "text/plain": [
       "  UserID     Category  TotalInteractions  AverageRating\n",
       "0   U000        Books                  6       3.666667\n",
       "1   U000     Clothing                  3       1.666667\n",
       "2   U000  Electronics                  3       3.666667\n",
       "3   U000         Home                  2       1.000000\n",
       "4   U000         Toys                  6       3.500000"
      ]
     },
     "execution_count": 4,
     "metadata": {},
     "output_type": "execute_result"
    }
   ],
   "source": [
    "# Aggregate user behavior by category\n",
    "user_category_agg = user_data.groupby(['UserID', 'Category']).agg({'Rating': ['count', 'mean']}).reset_index()\n",
    "user_category_agg.columns = ['UserID', 'Category', 'TotalInteractions', 'AverageRating']\n",
    "user_category_agg.head()"
   ]
  },
  {
   "cell_type": "markdown",
   "id": "7ba0f385",
   "metadata": {},
   "source": [
    "## 🤝 Part 2: User-Based Collaborative Filtering\n",
    "Steps:\n",
    "- Use cosine similarity to compare users\n",
    "- Recommend top-N products based on similar users\n",
    "- Evaluate with Precision@K and Coverage"
   ]
  },
  {
   "cell_type": "code",
   "execution_count": 5,
   "id": "89d54bf0",
   "metadata": {},
   "outputs": [],
   "source": [
    "# Compute the mean for each user, ignoring zeros\n",
    "user_means = user_item_matrix_filled.replace(0, np.nan).mean(axis=1)\n",
    "\n",
    "# Subtract the mean only for nonzero values\n",
    "def mean_subtract(row, mean):\n",
    "    return [val - mean if val != 0 else 0 for val in row]\n",
    "\n",
    "user_item_matrix_mean_subtracted = user_item_matrix_filled.apply(lambda row: mean_subtract(row, user_means[row.name]), axis=1)\n",
    "\n",
    "# Convert back to DataFrame\n",
    "user_item_matrix_mean_subtracted = pd.DataFrame(user_item_matrix_mean_subtracted.tolist(), index=user_item_matrix_filled.index, columns=user_item_matrix_filled.columns)"
   ]
  },
  {
   "cell_type": "code",
   "execution_count": 6,
   "id": "2511680e",
   "metadata": {},
   "outputs": [
    {
     "data": {
      "application/vnd.microsoft.datawrangler.viewer.v0+json": {
       "columns": [
        {
         "name": "UserID",
         "rawType": "object",
         "type": "string"
        },
        {
         "name": "U000",
         "rawType": "float64",
         "type": "float"
        },
        {
         "name": "U001",
         "rawType": "float64",
         "type": "float"
        },
        {
         "name": "U002",
         "rawType": "float64",
         "type": "float"
        },
        {
         "name": "U003",
         "rawType": "float64",
         "type": "float"
        },
        {
         "name": "U004",
         "rawType": "float64",
         "type": "float"
        },
        {
         "name": "U005",
         "rawType": "float64",
         "type": "float"
        },
        {
         "name": "U006",
         "rawType": "float64",
         "type": "float"
        },
        {
         "name": "U007",
         "rawType": "float64",
         "type": "float"
        },
        {
         "name": "U008",
         "rawType": "float64",
         "type": "float"
        },
        {
         "name": "U009",
         "rawType": "float64",
         "type": "float"
        },
        {
         "name": "U010",
         "rawType": "float64",
         "type": "float"
        },
        {
         "name": "U011",
         "rawType": "float64",
         "type": "float"
        },
        {
         "name": "U012",
         "rawType": "float64",
         "type": "float"
        },
        {
         "name": "U013",
         "rawType": "float64",
         "type": "float"
        },
        {
         "name": "U014",
         "rawType": "float64",
         "type": "float"
        },
        {
         "name": "U015",
         "rawType": "float64",
         "type": "float"
        },
        {
         "name": "U016",
         "rawType": "float64",
         "type": "float"
        },
        {
         "name": "U017",
         "rawType": "float64",
         "type": "float"
        },
        {
         "name": "U018",
         "rawType": "float64",
         "type": "float"
        },
        {
         "name": "U019",
         "rawType": "float64",
         "type": "float"
        },
        {
         "name": "U020",
         "rawType": "float64",
         "type": "float"
        },
        {
         "name": "U021",
         "rawType": "float64",
         "type": "float"
        },
        {
         "name": "U022",
         "rawType": "float64",
         "type": "float"
        },
        {
         "name": "U023",
         "rawType": "float64",
         "type": "float"
        },
        {
         "name": "U024",
         "rawType": "float64",
         "type": "float"
        },
        {
         "name": "U025",
         "rawType": "float64",
         "type": "float"
        },
        {
         "name": "U026",
         "rawType": "float64",
         "type": "float"
        },
        {
         "name": "U027",
         "rawType": "float64",
         "type": "float"
        },
        {
         "name": "U028",
         "rawType": "float64",
         "type": "float"
        },
        {
         "name": "U029",
         "rawType": "float64",
         "type": "float"
        },
        {
         "name": "U030",
         "rawType": "float64",
         "type": "float"
        },
        {
         "name": "U031",
         "rawType": "float64",
         "type": "float"
        },
        {
         "name": "U032",
         "rawType": "float64",
         "type": "float"
        },
        {
         "name": "U033",
         "rawType": "float64",
         "type": "float"
        },
        {
         "name": "U034",
         "rawType": "float64",
         "type": "float"
        },
        {
         "name": "U035",
         "rawType": "float64",
         "type": "float"
        },
        {
         "name": "U036",
         "rawType": "float64",
         "type": "float"
        },
        {
         "name": "U037",
         "rawType": "float64",
         "type": "float"
        },
        {
         "name": "U038",
         "rawType": "float64",
         "type": "float"
        },
        {
         "name": "U039",
         "rawType": "float64",
         "type": "float"
        },
        {
         "name": "U040",
         "rawType": "float64",
         "type": "float"
        },
        {
         "name": "U041",
         "rawType": "float64",
         "type": "float"
        },
        {
         "name": "U042",
         "rawType": "float64",
         "type": "float"
        },
        {
         "name": "U043",
         "rawType": "float64",
         "type": "float"
        },
        {
         "name": "U044",
         "rawType": "float64",
         "type": "float"
        },
        {
         "name": "U045",
         "rawType": "float64",
         "type": "float"
        },
        {
         "name": "U046",
         "rawType": "float64",
         "type": "float"
        },
        {
         "name": "U047",
         "rawType": "float64",
         "type": "float"
        },
        {
         "name": "U048",
         "rawType": "float64",
         "type": "float"
        },
        {
         "name": "U049",
         "rawType": "float64",
         "type": "float"
        }
       ],
       "conversionMethod": "pd.DataFrame",
       "ref": "7a16fdad-c233-448b-b0d0-206d477f410f",
       "rows": [
        [
         "U000",
         "0.9999999999999999",
         "0.06703544552961857",
         "0.1796526798733725",
         "0.09858139260677422",
         "-0.07083955731844742",
         "0.14520809212924826",
         "0.04253760245072005",
         "-0.05772315094909119",
         "-0.029464523179964085",
         "0.10406661047470103",
         "0.06463599031648232",
         "0.05157357396621661",
         "-0.24029152109478533",
         "0.05497252060782751",
         "-0.04601607839028274",
         "-0.034163662355504554",
         "0.1394151424221269",
         "0.025134133350432696",
         "-0.03797054914636982",
         "-0.06270733839147132",
         "-0.24889179527281954",
         "0.0006603573764586034",
         "0.0020679809893796785",
         "-0.20383850704552536",
         "0.10178245482237155",
         "-0.15500409828742537",
         "-0.24698286969669542",
         "0.06500606150012611",
         "-0.03720731993062882",
         "0.14126817062581665",
         "-0.14170073343802997",
         "-0.08568847928122504",
         "-0.2193308269154689",
         "-0.003304207843304317",
         "0.15474452799976138",
         "0.06630466664862843",
         "0.02748627757645984",
         "0.0501923477534486",
         "0.33088762156857376",
         "0.051396392675466224",
         "-0.08548478891028409",
         "-0.12393987092382706",
         "0.1299350487094105",
         "0.11599190058487192",
         "-0.016099534031676247",
         "0.03495251136823138",
         "-0.1398004275535649",
         "-0.0020882333793024554",
         "0.0",
         "0.051208229323887765"
        ],
        [
         "U001",
         "0.06703544552961857",
         "0.9999999999999999",
         "0.1897188284582279",
         "0.0",
         "-0.04606631927811571",
         "0.11383959001245632",
         "0.0",
         "-0.02763236410477618",
         "-0.2102091486016833",
         "-0.005818832671299302",
         "-0.016402455250763497",
         "0.05644813350496435",
         "-0.18589611161986186",
         "-0.050238917510966194",
         "-0.06972061020314226",
         "-0.047038226371756364",
         "0.12305971313164185",
         "0.13934376891233283",
         "0.13239170939738645",
         "0.0042696135211114485",
         "0.023650864313202194",
         "0.0",
         "-0.003968811378867147",
         "-0.1644854261060547",
         "-0.08837482307610867",
         "0.0",
         "0.004702407023893447",
         "0.21627157227241545",
         "0.061027098785276825",
         "0.028287921537371582",
         "-0.19776444919603448",
         "0.11667923630863955",
         "-0.041074707213111405",
         "-0.028663438552420234",
         "0.0931300487954464",
         "-0.00690325850302397",
         "0.02496458988827842",
         "0.01469284915189566",
         "0.0",
         "0.04931926094356904",
         "-0.18392592070667432",
         "-0.042229010533862826",
         "0.0",
         "0.1426164404204881",
         "0.0",
         "0.0",
         "0.015644377695241983",
         "-0.15458191200696342",
         "0.0",
         "0.0"
        ],
        [
         "U002",
         "0.1796526798733725",
         "0.1897188284582279",
         "1.0000000000000002",
         "-0.003939053763075923",
         "-0.1215837300805282",
         "-0.12632915010539686",
         "-0.03438519564754167",
         "-0.0328351011498013",
         "0.0",
         "0.08431649613614696",
         "0.007206674257058662",
         "0.08377169892204579",
         "-0.04701022889786842",
         "0.01705660312848221",
         "0.0",
         "-0.2184743203067472",
         "-0.0977651401192611",
         "-0.025051803132148328",
         "0.0",
         "-0.0255125285797086",
         "-0.16463367200200363",
         "0.08925114538168162",
         "0.06352265334908451",
         "-0.13119447117865868",
         "0.027631697068141198",
         "0.0",
         "-0.17862700949327834",
         "-0.17050477562424007",
         "-0.07893313363325817",
         "0.05089100888687846",
         "-0.108323978484588",
         "0.023474809017341686",
         "0.05215528823754915",
         "-0.07295033721196179",
         "0.11593472394004206",
         "-0.04554636349586031",
         "0.08897356976448499",
         "0.0942192794658281",
         "0.16082202661286435",
         "0.03662711497269436",
         "-0.11136307685899932",
         "0.0",
         "0.18421131378760783",
         "0.0",
         "-0.04121109448571885",
         "0.08815185817454445",
         "0.01460640227915609",
         "-0.07055922579623301",
         "0.0957822228276884",
         "0.0"
        ],
        [
         "U003",
         "0.09858139260677422",
         "0.0",
         "-0.003939053763075923",
         "1.0",
         "0.007439942181085999",
         "-0.0332255252804984",
         "0.015283628955489723",
         "0.0",
         "-0.008745379494519834",
         "0.049409914680699475",
         "-0.07268897450632622",
         "0.0",
         "-0.054267969154034125",
         "0.09476708963971131",
         "-0.01635174850419321",
         "-0.013638775763346225",
         "0.12177950120434985",
         "-0.12517249826013893",
         "-0.08062425542459643",
         "-0.06869350879815023",
         "0.06787164353234387",
         "-0.03467709910735328",
         "-0.03294051660124408",
         "0.04500670649893974",
         "0.01662068956758012",
         "0.1329343424803006",
         "0.05018045946777185",
         "0.0",
         "0.0",
         "-0.048937888297779494",
         "-0.08207070707070704",
         "-0.24655694532669836",
         "-0.158393738499241",
         "-0.081605157176119",
         "-0.1981961300035211",
         "0.039666441401095896",
         "-0.03365721173096024",
         "-0.007779069910544096",
         "0.12866873215054553",
         "0.08924559353142293",
         "0.045514505344682155",
         "0.0",
         "0.0",
         "-0.18071932782138134",
         "0.07301430451919678",
         "0.0",
         "-0.016230737429670627",
         "-0.049346377121982685",
         "0.2542347809142178",
         "-0.0027690740014787597"
        ],
        [
         "U004",
         "-0.07083955731844742",
         "-0.04606631927811571",
         "-0.1215837300805282",
         "0.007439942181085999",
         "1.0000000000000002",
         "0.06286348447489819",
         "-0.06234769251058451",
         "0.0460703290522575",
         "-0.09141899300072058",
         "0.016623156758085927",
         "-0.005104389564287966",
         "-0.010443891284853186",
         "0.10011896460549048",
         "0.0",
         "0.0",
         "-0.009272952560223889",
         "-0.09745694184500933",
         "-0.14130558617280745",
         "0.07183565331829667",
         "0.10119299526748374",
         "-0.14997344777392765",
         "-0.06321537492010106",
         "-0.05479054177723091",
         "0.0035221749749534143",
         "0.0",
         "0.0",
         "-0.049043915523858346",
         "-0.06521754966089932",
         "-0.02608103346583545",
         "0.06629780929823274",
         "0.0009299927726357462",
         "-0.05403738800554606",
         "-0.18426981530572772",
         "0.23663240377120168",
         "0.09567048210478764",
         "-0.07101229485195747",
         "-0.0008044949601422871",
         "-0.12601142831766787",
         "-0.10084660130799337",
         "-0.1640042371170009",
         "-0.11580114104507644",
         "-0.053617433178513384",
         "-0.16913344695208193",
         "0.02663469316308869",
         "-0.10755799639497604",
         "-0.09605656109426153",
         "-0.07931562642445829",
         "-0.09086571267682009",
         "0.12140012877413084",
         "0.05897766114697205"
        ]
       ],
       "shape": {
        "columns": 50,
        "rows": 5
       }
      },
      "text/html": [
       "<div>\n",
       "<style scoped>\n",
       "    .dataframe tbody tr th:only-of-type {\n",
       "        vertical-align: middle;\n",
       "    }\n",
       "\n",
       "    .dataframe tbody tr th {\n",
       "        vertical-align: top;\n",
       "    }\n",
       "\n",
       "    .dataframe thead th {\n",
       "        text-align: right;\n",
       "    }\n",
       "</style>\n",
       "<table border=\"1\" class=\"dataframe\">\n",
       "  <thead>\n",
       "    <tr style=\"text-align: right;\">\n",
       "      <th>UserID</th>\n",
       "      <th>U000</th>\n",
       "      <th>U001</th>\n",
       "      <th>U002</th>\n",
       "      <th>U003</th>\n",
       "      <th>U004</th>\n",
       "      <th>U005</th>\n",
       "      <th>U006</th>\n",
       "      <th>U007</th>\n",
       "      <th>U008</th>\n",
       "      <th>U009</th>\n",
       "      <th>...</th>\n",
       "      <th>U040</th>\n",
       "      <th>U041</th>\n",
       "      <th>U042</th>\n",
       "      <th>U043</th>\n",
       "      <th>U044</th>\n",
       "      <th>U045</th>\n",
       "      <th>U046</th>\n",
       "      <th>U047</th>\n",
       "      <th>U048</th>\n",
       "      <th>U049</th>\n",
       "    </tr>\n",
       "    <tr>\n",
       "      <th>UserID</th>\n",
       "      <th></th>\n",
       "      <th></th>\n",
       "      <th></th>\n",
       "      <th></th>\n",
       "      <th></th>\n",
       "      <th></th>\n",
       "      <th></th>\n",
       "      <th></th>\n",
       "      <th></th>\n",
       "      <th></th>\n",
       "      <th></th>\n",
       "      <th></th>\n",
       "      <th></th>\n",
       "      <th></th>\n",
       "      <th></th>\n",
       "      <th></th>\n",
       "      <th></th>\n",
       "      <th></th>\n",
       "      <th></th>\n",
       "      <th></th>\n",
       "      <th></th>\n",
       "    </tr>\n",
       "  </thead>\n",
       "  <tbody>\n",
       "    <tr>\n",
       "      <th>U000</th>\n",
       "      <td>1.000000</td>\n",
       "      <td>0.067035</td>\n",
       "      <td>0.179653</td>\n",
       "      <td>0.098581</td>\n",
       "      <td>-0.070840</td>\n",
       "      <td>0.145208</td>\n",
       "      <td>0.042538</td>\n",
       "      <td>-0.057723</td>\n",
       "      <td>-0.029465</td>\n",
       "      <td>0.104067</td>\n",
       "      <td>...</td>\n",
       "      <td>-0.085485</td>\n",
       "      <td>-0.123940</td>\n",
       "      <td>0.129935</td>\n",
       "      <td>0.115992</td>\n",
       "      <td>-0.016100</td>\n",
       "      <td>0.034953</td>\n",
       "      <td>-0.139800</td>\n",
       "      <td>-0.002088</td>\n",
       "      <td>0.000000</td>\n",
       "      <td>0.051208</td>\n",
       "    </tr>\n",
       "    <tr>\n",
       "      <th>U001</th>\n",
       "      <td>0.067035</td>\n",
       "      <td>1.000000</td>\n",
       "      <td>0.189719</td>\n",
       "      <td>0.000000</td>\n",
       "      <td>-0.046066</td>\n",
       "      <td>0.113840</td>\n",
       "      <td>0.000000</td>\n",
       "      <td>-0.027632</td>\n",
       "      <td>-0.210209</td>\n",
       "      <td>-0.005819</td>\n",
       "      <td>...</td>\n",
       "      <td>-0.183926</td>\n",
       "      <td>-0.042229</td>\n",
       "      <td>0.000000</td>\n",
       "      <td>0.142616</td>\n",
       "      <td>0.000000</td>\n",
       "      <td>0.000000</td>\n",
       "      <td>0.015644</td>\n",
       "      <td>-0.154582</td>\n",
       "      <td>0.000000</td>\n",
       "      <td>0.000000</td>\n",
       "    </tr>\n",
       "    <tr>\n",
       "      <th>U002</th>\n",
       "      <td>0.179653</td>\n",
       "      <td>0.189719</td>\n",
       "      <td>1.000000</td>\n",
       "      <td>-0.003939</td>\n",
       "      <td>-0.121584</td>\n",
       "      <td>-0.126329</td>\n",
       "      <td>-0.034385</td>\n",
       "      <td>-0.032835</td>\n",
       "      <td>0.000000</td>\n",
       "      <td>0.084316</td>\n",
       "      <td>...</td>\n",
       "      <td>-0.111363</td>\n",
       "      <td>0.000000</td>\n",
       "      <td>0.184211</td>\n",
       "      <td>0.000000</td>\n",
       "      <td>-0.041211</td>\n",
       "      <td>0.088152</td>\n",
       "      <td>0.014606</td>\n",
       "      <td>-0.070559</td>\n",
       "      <td>0.095782</td>\n",
       "      <td>0.000000</td>\n",
       "    </tr>\n",
       "    <tr>\n",
       "      <th>U003</th>\n",
       "      <td>0.098581</td>\n",
       "      <td>0.000000</td>\n",
       "      <td>-0.003939</td>\n",
       "      <td>1.000000</td>\n",
       "      <td>0.007440</td>\n",
       "      <td>-0.033226</td>\n",
       "      <td>0.015284</td>\n",
       "      <td>0.000000</td>\n",
       "      <td>-0.008745</td>\n",
       "      <td>0.049410</td>\n",
       "      <td>...</td>\n",
       "      <td>0.045515</td>\n",
       "      <td>0.000000</td>\n",
       "      <td>0.000000</td>\n",
       "      <td>-0.180719</td>\n",
       "      <td>0.073014</td>\n",
       "      <td>0.000000</td>\n",
       "      <td>-0.016231</td>\n",
       "      <td>-0.049346</td>\n",
       "      <td>0.254235</td>\n",
       "      <td>-0.002769</td>\n",
       "    </tr>\n",
       "    <tr>\n",
       "      <th>U004</th>\n",
       "      <td>-0.070840</td>\n",
       "      <td>-0.046066</td>\n",
       "      <td>-0.121584</td>\n",
       "      <td>0.007440</td>\n",
       "      <td>1.000000</td>\n",
       "      <td>0.062863</td>\n",
       "      <td>-0.062348</td>\n",
       "      <td>0.046070</td>\n",
       "      <td>-0.091419</td>\n",
       "      <td>0.016623</td>\n",
       "      <td>...</td>\n",
       "      <td>-0.115801</td>\n",
       "      <td>-0.053617</td>\n",
       "      <td>-0.169133</td>\n",
       "      <td>0.026635</td>\n",
       "      <td>-0.107558</td>\n",
       "      <td>-0.096057</td>\n",
       "      <td>-0.079316</td>\n",
       "      <td>-0.090866</td>\n",
       "      <td>0.121400</td>\n",
       "      <td>0.058978</td>\n",
       "    </tr>\n",
       "  </tbody>\n",
       "</table>\n",
       "<p>5 rows × 50 columns</p>\n",
       "</div>"
      ],
      "text/plain": [
       "UserID      U000      U001      U002      U003      U004      U005      U006  \\\n",
       "UserID                                                                         \n",
       "U000    1.000000  0.067035  0.179653  0.098581 -0.070840  0.145208  0.042538   \n",
       "U001    0.067035  1.000000  0.189719  0.000000 -0.046066  0.113840  0.000000   \n",
       "U002    0.179653  0.189719  1.000000 -0.003939 -0.121584 -0.126329 -0.034385   \n",
       "U003    0.098581  0.000000 -0.003939  1.000000  0.007440 -0.033226  0.015284   \n",
       "U004   -0.070840 -0.046066 -0.121584  0.007440  1.000000  0.062863 -0.062348   \n",
       "\n",
       "UserID      U007      U008      U009  ...      U040      U041      U042  \\\n",
       "UserID                                ...                                 \n",
       "U000   -0.057723 -0.029465  0.104067  ... -0.085485 -0.123940  0.129935   \n",
       "U001   -0.027632 -0.210209 -0.005819  ... -0.183926 -0.042229  0.000000   \n",
       "U002   -0.032835  0.000000  0.084316  ... -0.111363  0.000000  0.184211   \n",
       "U003    0.000000 -0.008745  0.049410  ...  0.045515  0.000000  0.000000   \n",
       "U004    0.046070 -0.091419  0.016623  ... -0.115801 -0.053617 -0.169133   \n",
       "\n",
       "UserID      U043      U044      U045      U046      U047      U048      U049  \n",
       "UserID                                                                        \n",
       "U000    0.115992 -0.016100  0.034953 -0.139800 -0.002088  0.000000  0.051208  \n",
       "U001    0.142616  0.000000  0.000000  0.015644 -0.154582  0.000000  0.000000  \n",
       "U002    0.000000 -0.041211  0.088152  0.014606 -0.070559  0.095782  0.000000  \n",
       "U003   -0.180719  0.073014  0.000000 -0.016231 -0.049346  0.254235 -0.002769  \n",
       "U004    0.026635 -0.107558 -0.096057 -0.079316 -0.090866  0.121400  0.058978  \n",
       "\n",
       "[5 rows x 50 columns]"
      ]
     },
     "execution_count": 6,
     "metadata": {},
     "output_type": "execute_result"
    }
   ],
   "source": [
    "# Compute cosine similarity\n",
    "similarity_matrix = cosine_similarity(user_item_matrix_mean_subtracted)\n",
    "similarity_df = pd.DataFrame(similarity_matrix, \n",
    "                             index=user_item_matrix_mean_subtracted.index, \n",
    "                             columns=user_item_matrix_mean_subtracted.index)\n",
    "similarity_df.head()"
   ]
  },
  {
   "cell_type": "code",
   "execution_count": 7,
   "id": "9105afad",
   "metadata": {},
   "outputs": [],
   "source": [
    "# Create recommendation function\n",
    "# Find most similar user, recommend products they rated highly that target user hasn’t rated\n",
    "\"\"\"\n",
    "Step 1: Find the top N similar users, using the cosine similarity matrix\n",
    "\"\"\"\n",
    "def get_top_similar_users(user_id, similarity_df, top_n):\n",
    "    # drop will remove the column user_id from the row similarity_df[user_id] to avoid self-matching\n",
    "    # sort_values will sort in DESC order\n",
    "    # head will take the top_n rows\n",
    "    similar_users = similarity_df[user_id].drop(user_id).sort_values(ascending=False).head(top_n)\n",
    "    \n",
    "    # convert similar_users into a list of UserID (ex: ['U028', 'U010', 'U018', 'U009', 'U029'])\n",
    "    return similar_users.index.tolist()"
   ]
  },
  {
   "cell_type": "code",
   "execution_count": 8,
   "id": "17dbc841",
   "metadata": {},
   "outputs": [],
   "source": [
    "\"\"\"\n",
    "Step 2: Recommend products based on the top N similar users's ratings\n",
    "\"\"\"\n",
    "def recommend_products(user_id, user_item_matrix, similarity_df, top_n):\n",
    "    similar_users = get_top_similar_users(user_id, similarity_df, top_n)\n",
    "    similar_users_data = user_item_matrix.loc[similar_users]\n",
    "    \n",
    "    # Get the products that the user has already rated\n",
    "    rated_products = user_item_matrix.loc[user_id]\n",
    "    rated_products = rated_products[rated_products != 0].index\n",
    "\n",
    "    # Exclude the products that the user already rated\n",
    "    similar_users_data = similar_users_data.drop(columns=rated_products)\n",
    "\n",
    "    # Calculate the weighted sum of the ratings [aka predicted ratings] for each item\n",
    "    unrated_products = user_item_matrix.loc[user_id]\n",
    "    unrated_products = unrated_products[unrated_products == 0]\n",
    "    \n",
    "    numerator = pd.Series(0.0, index=unrated_products.index)\n",
    "    denominator = pd.Series(0.0, index=unrated_products.index)\n",
    "    results = pd.Series(0.0, index=unrated_products.index)\n",
    "    \n",
    "    for item in unrated_products.index:\n",
    "        for similar_user in similar_users:\n",
    "            # Fetch sim(user_id, similar_user)\n",
    "            user_to_user_similarity = similarity_df[user_id][similar_user]\n",
    "            \n",
    "            # Fetch the rating that similar_user gave for an item [unrated product]\n",
    "            rating_similar_user = user_item_matrix[item][similar_user]\n",
    "            \n",
    "            # If that rating is > 0, proceed\n",
    "            if rating_similar_user > 0:\n",
    "                # Calculate the weighted sum\n",
    "                numerator[item] += user_to_user_similarity * rating_similar_user\n",
    "                denominator[item] += user_to_user_similarity\n",
    "                \n",
    "                # Check if denominator is not zero before performing division\n",
    "                if denominator[item] > 0:\n",
    "                    results[item] = numerator[item] / denominator[item]\n",
    "                else:\n",
    "                    results[item] = 0\n",
    "\n",
    "            # Else, ignore\n",
    "    \n",
    "    # Sort the list of predicted ratings in DESC order\n",
    "    results = results.sort_values(ascending=False)\n",
    "    \n",
    "    # Do not filter results under a certain rating\n",
    "    # When searching for items in an e-commerce website, we could simply display the recommended products\n",
    "    # in DESC order. This would make the lower ratings or unrated products still visible, but at the bottom\n",
    "    \n",
    "    # Return the Series of index productID and values predicted ratings\n",
    "    return results"
   ]
  },
  {
   "cell_type": "code",
   "execution_count": 9,
   "id": "43c05cb7",
   "metadata": {},
   "outputs": [],
   "source": [
    "def precision_recall_at_k(recommended_products, rating_threshold, k):\n",
    "    \"\"\"\n",
    "    Calculate Precision@K and Recall@K while excluding already rated items.\n",
    "    \n",
    "    Parameters:\n",
    "        recommended_items (pd.Series): Recommended products with their predicted ratings/scores.\n",
    "        rating_threshold (float): Minimum rating to consider an item as relevant.\n",
    "        k (int): The number of top recommendations to evaluate.\n",
    "    \n",
    "    Returns:\n",
    "        precision (float): Precision@K score.\n",
    "        recall (float): Recall@K score.\n",
    "    \"\"\"\n",
    "    # Take top K recommended items and their ratings\n",
    "    top_k_recommended = set(recommended_products.head(k).items())\n",
    "    \n",
    "    # We will consider relevant_items as items in top_k_recommended that meet a strict rating_threshold\n",
    "    relevant_products_in_k = set(recommended_products[recommended_products >= rating_threshold].head(k).items())\n",
    "    \n",
    "    # Compute Precision@K (Number of relevant items in K / Total number of items in K)\n",
    "    if top_k_recommended:\n",
    "        precision = len(top_k_recommended & relevant_products_in_k) / len(top_k_recommended)\n",
    "    else:\n",
    "        precision = 0\n",
    "    \n",
    "    # Compute Recall@K (Number of relevant items in K / Total number of relevant items)\n",
    "    if relevant_products_in_k:\n",
    "        recall = len(top_k_recommended & relevant_products_in_k) / len(recommended_products[recommended_products >= rating_threshold])\n",
    "    else:\n",
    "        recall = 0\n",
    "    \n",
    "    return precision, recall"
   ]
  },
  {
   "cell_type": "code",
   "execution_count": 10,
   "id": "19427181",
   "metadata": {},
   "outputs": [],
   "source": [
    "\"\"\"\n",
    "A function that returns coverage\n",
    "\"\"\"\n",
    "def coverage(recommendations, total_products, min_rating):\n",
    "    filtered_recommendations = recommendations[recommendations >= min_rating]\n",
    "    recommended_products = set(item for item in filtered_recommendations.index)\n",
    "    return len(recommended_products) / total_products\n",
    "\n",
    "\n",
    "\"\"\"\n",
    "A function that returns diversity\n",
    "\"\"\"\n",
    "def diversity(recommendations, user_item_matrix_filled, min_rating):\n",
    "    # Extract the products in the recommendations\n",
    "    filtered_recommendations = recommendations[recommendations >= min_rating]\n",
    "    recommended_products = filtered_recommendations.index\n",
    "    recommended_product_matrix = user_item_matrix_filled.loc[:, recommended_products]\n",
    "\n",
    "    # Compute the cosine similarity between the recommended products\n",
    "    # .T transposes the matrix\n",
    "    cosine_sim_matrix = cosine_similarity(recommended_product_matrix.T)\n",
    "\n",
    "    # Mask the diagonal (self-similarity) to avoid counting it\n",
    "    np.fill_diagonal(cosine_sim_matrix, 0)\n",
    "\n",
    "    # Calculate the average cosine similarity of all pairs\n",
    "    num_pairs = cosine_sim_matrix.size\n",
    "    total_similarity = np.sum(cosine_sim_matrix)\n",
    "\n",
    "    # The diversity score is 1 minus the average similarity\n",
    "    if num_pairs > 0:\n",
    "        diversity_score = 1 - total_similarity / num_pairs\n",
    "    else:\n",
    "        diversity_score = 0\n",
    "    \n",
    "    return diversity_score"
   ]
  },
  {
   "cell_type": "code",
   "execution_count": 11,
   "id": "8269d4e5",
   "metadata": {},
   "outputs": [
    {
     "name": "stdout",
     "output_type": "stream",
     "text": [
      "Mean Precision: 0.7680\n",
      "Mean Recall: 0.9619\n",
      "Mean Coverage: 0.3442\n",
      "Mean Diversity: 0.8727\n"
     ]
    }
   ],
   "source": [
    "\"\"\"\n",
    "We will now calculate the precision, recall, coverage and diversity for each user's recommended products\n",
    "\"\"\"\n",
    "users = similarity_df.index\n",
    "user_recommendations_df = pd.DataFrame(index=users, columns=['Recommended Products', 'Precision', 'Recall', 'Coverage', 'Diversity'])\n",
    "for user in users:\n",
    "    top_n = 10 # based on the top 10 users...\n",
    "    recommended_products = recommend_products(user, user_item_matrix_filled, similarity_df, top_n)\n",
    "    \n",
    "    # Ensure that predicted ratings do not exceed 5\n",
    "    for index in recommended_products.index:\n",
    "        recommended_products[index] = float(min(recommended_products[index], 5))\n",
    "    \n",
    "    # We need to evaluate the top 5-10 recommended items (so, k=[5,10])\n",
    "    # A stricter rating criteria should be used for this\n",
    "    K = 10\n",
    "    rating_threshold = 4.5\n",
    "    precision, recall = precision_recall_at_k(recommended_products, rating_threshold, K)\n",
    "      \n",
    "    # Compute coverage and diversity\n",
    "    min_rating = 3\n",
    "    total_products = len(user_item_matrix_filled.loc[user])\n",
    "    \n",
    "    coverage_score = coverage(recommended_products, total_products, min_rating)\n",
    "    diversity_score = diversity(recommended_products, user_item_matrix_filled, min_rating)\n",
    "\n",
    "    # Store the results for this user\n",
    "    user_recommendations_df.loc[user] = [recommended_products, precision, recall, coverage_score, diversity_score]\n",
    "\n",
    "\"\"\"\n",
    "Using user_recommendations_df, calculate the mean precision, recall, coverage and diversity\n",
    "across all of the users' recommended products\n",
    "\"\"\"\n",
    "mean_precision = user_recommendations_df['Precision'].mean()\n",
    "mean_recall = user_recommendations_df['Recall'].mean()\n",
    "mean_coverage = user_recommendations_df['Coverage'].mean()\n",
    "mean_diversity = user_recommendations_df['Diversity'].mean()\n",
    "\n",
    "# Print the mean values\n",
    "print(f\"Mean Precision: {mean_precision:.4f}\")\n",
    "print(f\"Mean Recall: {mean_recall:.4f}\")\n",
    "print(f\"Mean Coverage: {mean_coverage:.4f}\")\n",
    "print(f\"Mean Diversity: {mean_diversity:.4f}\")"
   ]
  },
  {
   "cell_type": "code",
   "execution_count": 12,
   "id": "b647c834",
   "metadata": {},
   "outputs": [
    {
     "name": "stdout",
     "output_type": "stream",
     "text": [
      "Mean Average Precision (MAP): 0.9276507936507936\n"
     ]
    }
   ],
   "source": [
    "def average_precision_at_k(recommended_products, rating_threshold, k):\n",
    "    \"\"\"\n",
    "    Calculate Average Precision (AP) at K for a given set of recommended products.\n",
    "    \n",
    "    Parameters:\n",
    "        recommended_products (pd.Series): Recommended products with their predicted ratings.\n",
    "        rating_threshold (float): Minimum rating to consider an item as relevant.\n",
    "        k (int): The number of top recommendations to evaluate.\n",
    "    \n",
    "    Returns:\n",
    "        average_precision (float): Average Precision@K score.\n",
    "    \"\"\"\n",
    "    top_k_recommended = recommended_products.head(k)\n",
    "    \n",
    "    # Initialize variables to compute average precision\n",
    "    num_relevant = 0\n",
    "    precision_sum = 0.0\n",
    "    \n",
    "    for i in range(1, k+1):\n",
    "        # Get the top i recommended products\n",
    "        top_i_recommended = recommended_products.head(i)\n",
    "        \n",
    "        # Count the relevant products in the top i\n",
    "        relevant_in_top_i = top_i_recommended[top_i_recommended >= rating_threshold]\n",
    "        num_relevant = len(relevant_in_top_i)\n",
    "        \n",
    "        if num_relevant > 0:\n",
    "            precision_sum += num_relevant / i\n",
    "    \n",
    "    # Compute Average Precision at K\n",
    "    if len(top_k_recommended) > 0:\n",
    "        average_precision = precision_sum / len(top_k_recommended)\n",
    "    else:\n",
    "        average_precision = 0\n",
    "    \n",
    "    return average_precision\n",
    "\n",
    "\n",
    "def mean_average_precision(recommended_products_list, rating_threshold, k):\n",
    "    \"\"\"\n",
    "    Calculate Mean Average Precision (MAP) for multiple users.\n",
    "    \n",
    "    Parameters:\n",
    "        recommended_products_list (list of pd.Series): List of recommended products for multiple users.\n",
    "        rating_threshold (float): Minimum rating to consider an item as relevant.\n",
    "        k (int): The number of top recommendations to evaluate.\n",
    "    \n",
    "    Returns:\n",
    "        map_score (float): Mean Average Precision score.\n",
    "    \"\"\"\n",
    "    ap_scores = []\n",
    "    \n",
    "    for recommended_products in recommended_products_list:\n",
    "        ap = average_precision_at_k(recommended_products, rating_threshold, k)\n",
    "        ap_scores.append(ap)\n",
    "    \n",
    "    # Compute Mean Average Precision (MAP)\n",
    "    map_score = np.mean(ap_scores)\n",
    "    \n",
    "    return map_score\n",
    "\n",
    "\n",
    "# recommended_products_list is a list where each entry is a Series containing recommended products for a user.\n",
    "recommended_products_list = []\n",
    "top_n = 10\n",
    "for user in user_item_matrix_filled.index:\n",
    "    array_value = recommend_products(user, user_item_matrix_filled, similarity_df, top_n)\n",
    "    recommended_products_list.append(array_value)\n",
    "\n",
    "rating_threshold = 4.5\n",
    "MAP_score = mean_average_precision(recommended_products_list, rating_threshold, K)\n",
    "print(f\"Mean Average Precision (MAP): {MAP_score}\")"
   ]
  },
  {
   "cell_type": "markdown",
   "id": "ebbeaa43",
   "metadata": {},
   "source": [
    "## 🔍 Part 3: Association Rule Mining (Apriori)\n",
    "Steps:\n",
    "- Convert user-product interactions to transaction format\n",
    "- Apply Apriori algorithm to find frequent itemsets\n",
    "- Generate association rules (support, confidence, lift)"
   ]
  },
  {
   "cell_type": "code",
   "execution_count": 13,
   "id": "43ae1abe",
   "metadata": {},
   "outputs": [],
   "source": [
    "# Convert to transaction format\n",
    "transactions = user_data.groupby('UserID')['ProductID'].apply(list).tolist()\n",
    "te = TransactionEncoder()\n",
    "te_ary = te.fit(transactions).transform(transactions)\n",
    "df_trans = pd.DataFrame(te_ary, columns=te.columns_)"
   ]
  },
  {
   "cell_type": "code",
   "execution_count": 14,
   "id": "0bf18eea",
   "metadata": {},
   "outputs": [
    {
     "data": {
      "application/vnd.microsoft.datawrangler.viewer.v0+json": {
       "columns": [
        {
         "name": "index",
         "rawType": "int64",
         "type": "integer"
        },
        {
         "name": "antecedents",
         "rawType": "object",
         "type": "unknown"
        },
        {
         "name": "consequents",
         "rawType": "object",
         "type": "unknown"
        },
        {
         "name": "support",
         "rawType": "float64",
         "type": "float"
        },
        {
         "name": "confidence",
         "rawType": "float64",
         "type": "float"
        },
        {
         "name": "lift",
         "rawType": "float64",
         "type": "float"
        }
       ],
       "conversionMethod": "pd.DataFrame",
       "ref": "aa957764-9c78-4df4-8e93-205116ffd2e3",
       "rows": [
        [
         "1",
         "frozenset({'P0003'})",
         "frozenset({'P0070'})",
         "0.1",
         "0.625",
         "1.838235294117647"
        ],
        [
         "2",
         "frozenset({'P0011'})",
         "frozenset({'P0004'})",
         "0.1",
         "0.5555555555555556",
         "2.5252525252525255"
        ],
        [
         "7",
         "frozenset({'P0011'})",
         "frozenset({'P0077'})",
         "0.1",
         "0.5555555555555556",
         "2.5252525252525255"
        ],
        [
         "9",
         "frozenset({'P0013'})",
         "frozenset({'P0079'})",
         "0.1",
         "0.7142857142857143",
         "3.571428571428571"
        ],
        [
         "10",
         "frozenset({'P0039'})",
         "frozenset({'P0015'})",
         "0.1",
         "0.7142857142857143",
         "4.464285714285714"
        ]
       ],
       "shape": {
        "columns": 5,
        "rows": 5
       }
      },
      "text/html": [
       "<div>\n",
       "<style scoped>\n",
       "    .dataframe tbody tr th:only-of-type {\n",
       "        vertical-align: middle;\n",
       "    }\n",
       "\n",
       "    .dataframe tbody tr th {\n",
       "        vertical-align: top;\n",
       "    }\n",
       "\n",
       "    .dataframe thead th {\n",
       "        text-align: right;\n",
       "    }\n",
       "</style>\n",
       "<table border=\"1\" class=\"dataframe\">\n",
       "  <thead>\n",
       "    <tr style=\"text-align: right;\">\n",
       "      <th></th>\n",
       "      <th>antecedents</th>\n",
       "      <th>consequents</th>\n",
       "      <th>support</th>\n",
       "      <th>confidence</th>\n",
       "      <th>lift</th>\n",
       "    </tr>\n",
       "  </thead>\n",
       "  <tbody>\n",
       "    <tr>\n",
       "      <th>1</th>\n",
       "      <td>(P0003)</td>\n",
       "      <td>(P0070)</td>\n",
       "      <td>0.1</td>\n",
       "      <td>0.625000</td>\n",
       "      <td>1.838235</td>\n",
       "    </tr>\n",
       "    <tr>\n",
       "      <th>2</th>\n",
       "      <td>(P0011)</td>\n",
       "      <td>(P0004)</td>\n",
       "      <td>0.1</td>\n",
       "      <td>0.555556</td>\n",
       "      <td>2.525253</td>\n",
       "    </tr>\n",
       "    <tr>\n",
       "      <th>7</th>\n",
       "      <td>(P0011)</td>\n",
       "      <td>(P0077)</td>\n",
       "      <td>0.1</td>\n",
       "      <td>0.555556</td>\n",
       "      <td>2.525253</td>\n",
       "    </tr>\n",
       "    <tr>\n",
       "      <th>9</th>\n",
       "      <td>(P0013)</td>\n",
       "      <td>(P0079)</td>\n",
       "      <td>0.1</td>\n",
       "      <td>0.714286</td>\n",
       "      <td>3.571429</td>\n",
       "    </tr>\n",
       "    <tr>\n",
       "      <th>10</th>\n",
       "      <td>(P0039)</td>\n",
       "      <td>(P0015)</td>\n",
       "      <td>0.1</td>\n",
       "      <td>0.714286</td>\n",
       "      <td>4.464286</td>\n",
       "    </tr>\n",
       "  </tbody>\n",
       "</table>\n",
       "</div>"
      ],
      "text/plain": [
       "   antecedents consequents  support  confidence      lift\n",
       "1      (P0003)     (P0070)      0.1    0.625000  1.838235\n",
       "2      (P0011)     (P0004)      0.1    0.555556  2.525253\n",
       "7      (P0011)     (P0077)      0.1    0.555556  2.525253\n",
       "9      (P0013)     (P0079)      0.1    0.714286  3.571429\n",
       "10     (P0039)     (P0015)      0.1    0.714286  4.464286"
      ]
     },
     "execution_count": 14,
     "metadata": {},
     "output_type": "execute_result"
    }
   ],
   "source": [
    "# Apply Apriori and generate rules\n",
    "frequent_itemsets = apriori(df_trans, min_support=0.10, use_colnames=True)\n",
    "\n",
    "# Lift > 1 ensures items are positively correlated, a higher threshold can be set for stronger bundles\n",
    "# A higher lift means items are more likely to be purchased together than expected by chance.\n",
    "rules = association_rules(frequent_itemsets, metric='lift', min_threshold=1.2)\n",
    "rules = rules[(rules['lift'] > 1.2) & (rules['confidence'] > 0.5)]\n",
    "\n",
    "rules[['antecedents', 'consequents', 'support', 'confidence', 'lift']].head()"
   ]
  },
  {
   "cell_type": "code",
   "execution_count": 15,
   "id": "4a20f1f3",
   "metadata": {},
   "outputs": [
    {
     "data": {
      "image/png": "[encoded data removed]",
      "text/plain": [
       "<Figure size 1000x800 with 1 Axes>"
      ]
     },
     "metadata": {},
     "output_type": "display_data"
    }
   ],
   "source": [
    "# Finding product bundles, then showing using a network diagram\n",
    "\n",
    "# Making graph edges using the antecedents and consequents given by the Apriori algorithm\n",
    "G = nx.from_pandas_edgelist(rules, 'antecedents', 'consequents', edge_attr=['lift'])  \n",
    "\n",
    "# Convert frozenset to readable strings\n",
    "labels = {}\n",
    "for node in G.nodes():\n",
    "    if isinstance(node, frozenset):\n",
    "        labels[node] = ', '.join(node)  # Convert frozenset to a readable string\n",
    "    else:\n",
    "        labels[node] = str(node)  # Convert other types to string\n",
    "\n",
    "# Compute layout with spacing\n",
    "pos = nx.spring_layout(G, k=0.5, seed=42)\n",
    "\n",
    "# Draw the graph, without labels for now\n",
    "plt.figure(figsize=(10,8))  \n",
    "nx.draw(G, pos, with_labels=False, node_color='lightblue', edge_color='gray')  \n",
    "\n",
    "# Add labels with spacing\n",
    "texts = []\n",
    "for node, (x, y) in pos.items():\n",
    "    text = plt.text(x, y, labels[node], fontsize=10, ha='center', va='center')\n",
    "    texts.append(text)\n",
    "\n",
    "adjust_text(texts)\n",
    "\n",
    "plt.show()"
   ]
  },
  {
   "cell_type": "markdown",
   "id": "651bef33",
   "metadata": {},
   "source": [
    "## 📊 Part 4: Visualization\n",
    "Steps:\n",
    "- Plot user similarity heatmap\n",
    "- Plot top frequent itemsets\n",
    "- Visualize top recommendations"
   ]
  },
  {
   "cell_type": "code",
   "execution_count": 16,
   "id": "0e5c33d4",
   "metadata": {},
   "outputs": [
    {
     "data": {
      "image/png": "[encoded data removed]",
      "text/plain": [
       "<Figure size 1000x800 with 2 Axes>"
      ]
     },
     "metadata": {},
     "output_type": "display_data"
    }
   ],
   "source": [
    "# Heatmap of user similarity\n",
    "plt.figure(figsize=(10, 8))\n",
    "sns.heatmap(similarity_df, cmap='YlGnBu')\n",
    "plt.title('User Similarity Heatmap')\n",
    "plt.show()"
   ]
  },
  {
   "cell_type": "code",
   "execution_count": 17,
   "id": "dda9498e",
   "metadata": {},
   "outputs": [
    {
     "data": {
      "image/png": "[encoded data removed]",
      "text/plain": [
       "<Figure size 1000x600 with 1 Axes>"
      ]
     },
     "metadata": {},
     "output_type": "display_data"
    }
   ],
   "source": [
    "# Visualize frequent itemsets using bar charts\n",
    "# Convert frozen sets to strings for visualization\n",
    "frequent_itemsets['itemset'] = frequent_itemsets['itemsets'].apply(lambda x: ', '.join(list(x)))\n",
    "\n",
    "# Sort and select top N itemsets, support being the frequency of the rule in the dataset\n",
    "top_itemsets = frequent_itemsets.nlargest(10, 'support')\n",
    "\n",
    "plt.figure(figsize=(10, 6))\n",
    "sns.barplot(x='support', y='itemset', data=top_itemsets, hue='itemset', dodge=False, legend=False, palette='viridis')\n",
    "plt.xlabel('Support')\n",
    "plt.ylabel('Itemsets')\n",
    "plt.title('Top Frequent Itemsets')\n",
    "plt.show()"
   ]
  },
  {
   "cell_type": "code",
   "execution_count": 18,
   "id": "57414241",
   "metadata": {},
   "outputs": [
    {
     "data": {
      "image/png": "[encoded data removed]",
      "text/plain": [
       "<Figure size 800x500 with 1 Axes>"
      ]
     },
     "metadata": {},
     "output_type": "display_data"
    }
   ],
   "source": [
    "# Top-5 product recommendations for each user group.\n",
    "\n",
    "# Step 1: Using Elbow Method to attempt to find the optimal K\n",
    "scaler = MinMaxScaler()\n",
    "distance_matrix = scaler.fit_transform(similarity_df.values)\n",
    "\n",
    "distortions = []\n",
    "silhouette_scores = []\n",
    "K_range = range(2, 7) # ecommerce_user_data is a small dataset, so adjust K_range to 2-6 to avoid overfitting\n",
    "\n",
    "for k in K_range:\n",
    "    kmeans = KMeans(n_clusters=k, random_state=42, init='k-means++', n_init=20) # init='k-means++',\n",
    "    kmeans.fit(distance_matrix)\n",
    "    distortions.append(kmeans.inertia_)\n",
    "    score = silhouette_score(distance_matrix, kmeans.labels_)\n",
    "    silhouette_scores.append(score)\n",
    "\n",
    "\n",
    "# Plot the elbow curve\n",
    "plt.figure(figsize=(8, 5))\n",
    "plt.plot(K_range, distortions, marker='o', linestyle='-')\n",
    "plt.xlabel('Number of clusters (K)')\n",
    "plt.ylabel('Distortion (Inertia)')\n",
    "plt.title('Elbow Method Graph')\n",
    "plt.grid(True)\n",
    "plt.show()\n",
    "\n",
    "# To me, the elbow is not obvious... we will use another metric to determine K"
   ]
  },
  {
   "cell_type": "code",
   "execution_count": 19,
   "id": "59f42de8",
   "metadata": {},
   "outputs": [
    {
     "data": {
      "image/png": "[encoded data removed]",
      "text/plain": [
       "<Figure size 800x500 with 1 Axes>"
      ]
     },
     "metadata": {},
     "output_type": "display_data"
    },
    {
     "name": "stdout",
     "output_type": "stream",
     "text": [
      "Optimal number of clusters (K) based on silhouette score: 2\n"
     ]
    }
   ],
   "source": [
    "# Plot the silhouette scores (a metric that helps us determine K)\n",
    "plt.figure(figsize=(8, 5))\n",
    "plt.plot(K_range, silhouette_scores, marker='o', linestyle='-', color='b')\n",
    "plt.xlabel('Number of clusters (K)')\n",
    "plt.ylabel('Silhouette Score')\n",
    "plt.title('Silhouette Score for Optimal K')\n",
    "plt.grid(True)\n",
    "plt.show()\n",
    "\n",
    "# Find the optimal K (go to Step 2 and replace k with the optimal K)\n",
    "optimal_k = K_range[np.argmax(silhouette_scores)]\n",
    "print(f\"Optimal number of clusters (K) based on silhouette score: {optimal_k}\")"
   ]
  },
  {
   "cell_type": "code",
   "execution_count": 20,
   "id": "d116655d",
   "metadata": {},
   "outputs": [
    {
     "name": "stdout",
     "output_type": "stream",
     "text": [
      "  UserID  Cluster\n",
      "0   U000        1\n",
      "1   U001        1\n",
      "2   U002        1\n",
      "3   U003        0\n",
      "4   U004        0\n"
     ]
    }
   ],
   "source": [
    "# Apply K-Means clustering\n",
    "k = 2  # Tune this based on the elbow method\n",
    "kmeans = KMeans(n_clusters=k, random_state=42, init='k-means++', n_init=20)\n",
    "user_clusters = kmeans.fit_predict(distance_matrix)\n",
    "\n",
    "# DataFrame that has columns UserID and Cluster\n",
    "user_cluster_df = pd.DataFrame({'UserID': similarity_df.index, 'Cluster': user_clusters})\n",
    "print(user_cluster_df.head())"
   ]
  },
  {
   "cell_type": "code",
   "execution_count": 21,
   "id": "97f5df11",
   "metadata": {},
   "outputs": [
    {
     "name": "stdout",
     "output_type": "stream",
     "text": [
      "Cluster 0:\n",
      "['U003', 'U004', 'U005', 'U007', 'U008', 'U012', 'U013', 'U014', 'U015', 'U019', 'U020', 'U021', 'U023', 'U025', 'U026', 'U030', 'U032', 'U033', 'U036', 'U040', 'U041', 'U044', 'U046', 'U047', 'U048']\n",
      "----------------------------------------------------------------------------------------------------\n",
      "Cluster 1:\n",
      "['U000', 'U001', 'U002', 'U006', 'U009', 'U010', 'U011', 'U016', 'U017', 'U018', 'U022', 'U024', 'U027', 'U028', 'U029', 'U031', 'U034', 'U035', 'U037', 'U038', 'U039', 'U042', 'U043', 'U045', 'U049']\n",
      "----------------------------------------------------------------------------------------------------\n"
     ]
    }
   ],
   "source": [
    "# Step 3: Make a list of users for each cluster\n",
    "clustered_users = user_cluster_df.groupby('Cluster')['UserID'].apply(list)\n",
    "\n",
    "# Print the clustered users\n",
    "for cluster, users in clustered_users.items():\n",
    "    print(f\"Cluster {cluster}:\")\n",
    "    print(users)\n",
    "    print(\"-\" * 100)"
   ]
  },
  {
   "cell_type": "code",
   "execution_count": null,
   "id": "4422d8ba",
   "metadata": {},
   "outputs": [
    {
     "name": "stdout",
     "output_type": "stream",
     "text": [
      "{'P0008': np.float64(5.0), 'P0016': np.float64(5.0), 'P0095': np.float64(5.0), 'P0048': np.float64(5.0), 'P0035': np.float64(5.0), 'P0005': np.float64(5.0), 'P0017': np.float64(5.0), 'P0024': np.float64(5.0), 'P0061': np.float64(5.0), 'P0065': np.float64(5.0), 'P0083': np.float64(5.0), 'P0040': np.float64(5.000000000000001), 'P0011': np.float64(5.0), 'P0000': np.float64(5.0), 'P0045': np.float64(5.0), 'P0054': np.float64(5.0), 'P0041': np.float64(5.0), 'P0034': np.float64(5.0), 'P0049': np.float64(5.0), 'P0069': np.float64(5.0), 'P0032': np.float64(5.0), 'P0052': np.float64(5.0), 'P0038': np.float64(5.0), 'P0071': np.float64(5.0), 'P0079': np.float64(5.0), 'P0006': np.float64(5.0), 'P0088': np.float64(5.0), 'P0020': np.float64(5.0), 'P0068': np.float64(5.0), 'P0080': np.float64(5.0), 'P0007': np.float64(5.0), 'P0029': np.float64(5.0), 'P0092': np.float64(5.0), 'P0050': np.float64(5.0), 'P0044': np.float64(4.402281462675934), 'P0037': np.float64(5.0), 'P0039': np.float64(5.0), 'P0073': np.float64(5.0), 'P0074': np.float64(5.0), 'P0075': np.float64(5.0), 'P0002': np.float64(5.0), 'P0072': np.float64(5.0), 'P0025': np.float64(5.0), 'P0082': np.float64(5.0), 'P0028': np.float64(4.0), 'P0004': np.float64(5.0), 'P0051': np.float64(5.0), 'P0042': np.float64(5.0), 'P0001': np.float64(5.0), 'P0091': np.float64(5.0), 'P0030': np.float64(5.0), 'P0077': np.float64(5.0), 'P0070': np.float64(5.0), 'P0062': np.float64(5.0)}\n",
      "{'P0016': np.float64(5.0), 'P0055': np.float64(5.0), 'P0094': np.float64(5.0), 'P0060': np.float64(5.0), 'P0051': np.float64(5.0), 'P0039': np.float64(5.0), 'P0023': np.float64(5.0), 'P0005': np.float64(5.0), 'P0009': np.float64(5.0), 'P0036': np.float64(5.000000000000001), 'P0001': np.float64(5.0), 'P0076': np.float64(5.0), 'P0048': np.float64(5.0), 'P0003': np.float64(5.0), 'P0088': np.float64(4.728213703973196), 'P0087': np.float64(4.366026684582109), 'P0008': np.float64(4.741304116945099), 'P0061': np.float64(5.0), 'P0030': np.float64(5.0), 'P0033': np.float64(4.569123577798651), 'P0000': np.float64(5.0), 'P0018': np.float64(5.0), 'P0074': np.float64(5.0), 'P0017': np.float64(5.0), 'P0031': np.float64(5.0), 'P0032': np.float64(5.0), 'P0034': np.float64(5.0), 'P0025': np.float64(5.0), 'P0063': np.float64(5.0), 'P0083': np.float64(5.0), 'P0072': np.float64(5.0), 'P0062': np.float64(5.0), 'P0049': np.float64(5.000000000000001), 'P0024': np.float64(5.000000000000001), 'P0092': np.float64(5.0), 'P0038': np.float64(5.0), 'P0078': np.float64(5.000000000000001), 'P0041': np.float64(5.0), 'P0007': np.float64(5.0), 'P0029': np.float64(4.8495916783063455), 'P0037': np.float64(5.0), 'P0022': np.float64(5.0), 'P0093': np.float64(5.0), 'P0064': np.float64(5.0), 'P0069': np.float64(5.0), 'P0046': np.float64(5.0), 'P0080': np.float64(5.0), 'P0073': np.float64(5.0), 'P0054': np.float64(5.0), 'P0002': np.float64(5.0), 'P0014': np.float64(5.0), 'P0075': np.float64(5.0), 'P0082': np.float64(4.46862201348434), 'P0006': np.float64(5.0), 'P0077': np.float64(5.0), 'P0065': np.float64(5.0), 'P0045': np.float64(5.0)}\n"
     ]
    }
   ],
   "source": [
    "# Step 4: Compute the Top-5 product recommendations for each cluster\n",
    "\n",
    "cluster_rec_prod = [] # A list of dictionnaries. Each dictionnary is tied to a cluster.\n",
    "\n",
    "for cluster, users in clustered_users.items():\n",
    "    cluster_dict = {}\n",
    "    \n",
    "    # For a user in a cluster\n",
    "    # Based on the top 10 most similar users, find the top-5 recommended products\n",
    "    for user in users:\n",
    "        rec_prod = recommend_products(user, user_item_matrix_filled, similarity_df, 10)\n",
    "        rec_prod = rec_prod.head(5)\n",
    "        \n",
    "        # We will not force the average ratings to be 5 yet...\n",
    "        \n",
    "        # rec_prod is a Series where index is productID and value is predicted rating\n",
    "        # cluster_dict has a productID (key) and a list of predicted ratings (value)\n",
    "        for product_id, predicted_rating in rec_prod.items():\n",
    "            if product_id not in cluster_dict:\n",
    "                cluster_dict[product_id] = {'predicted_ratings': []}\n",
    "                \n",
    "            cluster_dict[product_id]['predicted_ratings'].append(predicted_rating)\n",
    "    \n",
    "    # Calculate the average predicted rating for each product in the cluster_dict\n",
    "    for product, details in cluster_dict.items():\n",
    "        if details['predicted_ratings']:\n",
    "            avg_rating = np.mean(details['predicted_ratings'])\n",
    "        else:\n",
    "            avg_rating = 0\n",
    "        \n",
    "        # Remove the list of predicted ratings (we only need the average)\n",
    "        del cluster_dict[product]['predicted_ratings']\n",
    "        \n",
    "        cluster_dict[product] = avg_rating\n",
    "    \n",
    "    # Sort cluster_dict in DESC order based on average predicted rating\n",
    "    cluster_dict = {k: v for k, v in sorted(cluster_dict.items(), key=lambda item: item[1], reverse=True)}\n",
    "    \n",
    "    # We will now force the average predicted ratings to be 5\n",
    "    for product_id, avg_rating in cluster_dict.items():\n",
    "        cluster_dict[product_id] = float(min(cluster_dict[product_id], 5))\n",
    "    \n",
    "    # Append dict to cluster_rec_prod\n",
    "    cluster_rec_prod.append({cluster: cluster_dict})"
   ]
  },
  {
   "cell_type": "code",
   "execution_count": 26,
   "id": "de1e8dca",
   "metadata": {},
   "outputs": [
    {
     "name": "stdout",
     "output_type": "stream",
     "text": [
      "Cluster 0:\n",
      "Product ID: P0040 -- Average rating: 5.0\n",
      "Product ID: P0008 -- Average rating: 5.0\n",
      "Product ID: P0016 -- Average rating: 5.0\n",
      "Product ID: P0095 -- Average rating: 5.0\n",
      "Product ID: P0048 -- Average rating: 5.0\n",
      "----------------------------------------------------------------------------------------------------\n",
      "Cluster 1:\n",
      "Product ID: P0036 -- Average rating: 5.0\n",
      "Product ID: P0049 -- Average rating: 5.0\n",
      "Product ID: P0024 -- Average rating: 5.0\n",
      "Product ID: P0078 -- Average rating: 5.0\n",
      "Product ID: P0016 -- Average rating: 5.0\n",
      "----------------------------------------------------------------------------------------------------\n"
     ]
    }
   ],
   "source": [
    "# Print the top 5 products in cluster_products. cluster_products is already sorted in DESC order\n",
    "num_of_top_products = 5\n",
    "\n",
    "for cluster_dict in cluster_rec_prod:\n",
    "    # cluster_dict has key cluster_number and value product_rating_dict\n",
    "    for cluster_number, product_rating_dict in cluster_dict.items():\n",
    "        print(f\"Cluster {cluster_number}:\")\n",
    "        count = 0\n",
    "        \n",
    "        for productID, avg_rating in product_rating_dict.items():\n",
    "            if (count < num_of_top_products):\n",
    "                print(f\"Product ID: {productID} -- Average rating: {avg_rating}\")\n",
    "                count += 1\n",
    "\n",
    "    print(\"-\" * 100)"
   ]
  },
  {
   "cell_type": "markdown",
   "id": "89b8b9e4",
   "metadata": {},
   "source": [
    "## 🧠 Part 5: Conceptual Questions\n",
    "Answer the following questions in your report:\n",
    "1. How does data sparsity affect performance?\n",
    "2. What kinds of product bundles were discovered?\n",
    "3. What improvements would you suggest for real-world deployment?"
   ]
  }
 ],
 "metadata": {
  "kernelspec": {
   "display_name": "Python 3",
   "language": "python",
   "name": "python3"
  },
  "language_info": {
   "codemirror_mode": {
    "name": "ipython",
    "version": 3
   },
   "file_extension": ".py",
   "mimetype": "text/x-python",
   "name": "python",
   "nbconvert_exporter": "python",
   "pygments_lexer": "ipython3",
   "version": "3.11.9"
  }
 },
 "nbformat": 4,
 "nbformat_minor": 5
}
